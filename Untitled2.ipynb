{
  "nbformat": 4,
  "nbformat_minor": 0,
  "metadata": {
    "colab": {
      "name": "Untitled2.ipynb",
      "provenance": [],
      "authorship_tag": "ABX9TyPhKezjXcYxmy0SPKa3bTWv",
      "include_colab_link": true
    },
    "kernelspec": {
      "name": "python3",
      "display_name": "Python 3"
    },
    "language_info": {
      "name": "python"
    }
  },
  "cells": [
    {
      "cell_type": "markdown",
      "metadata": {
        "id": "view-in-github",
        "colab_type": "text"
      },
      "source": [
        "<a href=\"https://colab.research.google.com/github/Yeswanth2910/python/blob/main/Untitled2.ipynb\" target=\"_parent\"><img src=\"https://colab.research.google.com/assets/colab-badge.svg\" alt=\"Open In Colab\"/></a>"
      ]
    },
    {
      "cell_type": "code",
      "execution_count": 1,
      "metadata": {
        "colab": {
          "base_uri": "https://localhost:8080/"
        },
        "id": "NH670yvwXyRe",
        "outputId": "133afc13-9425-4cc8-8394-7e819c1b7b0a"
      },
      "outputs": [
        {
          "output_type": "stream",
          "name": "stdout",
          "text": [
            "['apple', 'orange', 'mango', 'cherry']\n"
          ]
        }
      ],
      "source": [
        "#insert name in list\n",
        "fruits = [\"apple\",\"mango\",\"cherry\"]\n",
        "fruits.insert(1,\"orange\")\n",
        "print(fruits)"
      ]
    },
    {
      "cell_type": "code",
      "source": [
        "#addition of names\n",
        "fruit = [\"mango\"]\n",
        "fruits = [\"apple\",\"banana\",\"cherry\"]\n",
        "fruit.extend(fruits)\n",
        "print(fruits)"
      ],
      "metadata": {
        "colab": {
          "base_uri": "https://localhost:8080/"
        },
        "id": "WwZB4YqpYePn",
        "outputId": "04421f88-a461-448e-c12f-c7940b4c0563"
      },
      "execution_count": 2,
      "outputs": [
        {
          "output_type": "stream",
          "name": "stdout",
          "text": [
            "['apple', 'banana', 'cherry']\n"
          ]
        }
      ]
    },
    {
      "cell_type": "code",
      "source": [
        "a = \"rrr movie has been released\"\n",
        "print(a.lower())"
      ],
      "metadata": {
        "colab": {
          "base_uri": "https://localhost:8080/"
        },
        "id": "9_DtKgyAZlSN",
        "outputId": "a155411e-5af1-4b8a-e4da-8007704aed97"
      },
      "execution_count": 3,
      "outputs": [
        {
          "output_type": "stream",
          "name": "stdout",
          "text": [
            "rrr movie has been released\n"
          ]
        }
      ]
    },
    {
      "cell_type": "code",
      "source": [
        "# strip method\n",
        "a =\"        RRR movie           has been released\"\n",
        "print(a.strip())"
      ],
      "metadata": {
        "colab": {
          "base_uri": "https://localhost:8080/"
        },
        "id": "MXKKoG5AZ7-V",
        "outputId": "b7593b22-aaa8-436e-bac2-8a830f62aa23"
      },
      "execution_count": 4,
      "outputs": [
        {
          "output_type": "stream",
          "name": "stdout",
          "text": [
            "RRR movie           has been released\n"
          ]
        }
      ]
    },
    {
      "cell_type": "code",
      "source": [
        "# replace the letter\n",
        "a = \" vaswanth kasa\"\n",
        "print(a.replace(\"v\",\"y\"))\n"
      ],
      "metadata": {
        "colab": {
          "base_uri": "https://localhost:8080/"
        },
        "id": "dPfyumWfaoHc",
        "outputId": "2c9ab836-f6d2-438b-c397-527215a8e899"
      },
      "execution_count": 6,
      "outputs": [
        {
          "output_type": "stream",
          "name": "stdout",
          "text": [
            " yaswanth kasa\n"
          ]
        }
      ]
    },
    {
      "cell_type": "code",
      "source": [
        "#replacing the word\n",
        "a = \"RRR movie has been released\"\n",
        "print(a.replace(\"RRR\",\"WATER AND FIRE\"))"
      ],
      "metadata": {
        "colab": {
          "base_uri": "https://localhost:8080/"
        },
        "id": "UbY1z9IFbFjh",
        "outputId": "175c4fa3-e1c1-4357-ad07-a7ab68d5417d"
      },
      "execution_count": 8,
      "outputs": [
        {
          "output_type": "stream",
          "name": "stdout",
          "text": [
            "WATER AND FIRE movie has been released\n"
          ]
        }
      ]
    },
    {
      "cell_type": "code",
      "source": [
        "# split string\n",
        "a= \"RRR , movie , has , been,  released\"\n",
        "print(a.split(\",\"))"
      ],
      "metadata": {
        "colab": {
          "base_uri": "https://localhost:8080/"
        },
        "id": "AvrcMXMQb3mN",
        "outputId": "e1a35391-8227-41a8-9b30-05f8168517c8"
      },
      "execution_count": 9,
      "outputs": [
        {
          "output_type": "stream",
          "name": "stdout",
          "text": [
            "['RRR ', ' movie ', ' has ', ' been', '  released']\n"
          ]
        }
      ]
    },
    {
      "cell_type": "code",
      "source": [
        "# string concatenation\n",
        "a = \"RRR movie has been released\"\n",
        "b = \"i went to movie with my friends\"\n",
        "c=a+b\n",
        "print(c)"
      ],
      "metadata": {
        "colab": {
          "base_uri": "https://localhost:8080/"
        },
        "id": "w8fqkYXedail",
        "outputId": "1e7bd491-ebe2-42b9-9bbe-1f56f6d9d078"
      },
      "execution_count": 10,
      "outputs": [
        {
          "output_type": "stream",
          "name": "stdout",
          "text": [
            "RRR movie has been releasedi went to movie with my friends\n"
          ]
        }
      ]
    },
    {
      "cell_type": "code",
      "source": [
        "# string concatenation with space\n",
        "a =\"RRR movie has been released\"\n",
        "b=\"i went to movie with my friends\"\n",
        "c=a+\" \"+b\n",
        "print(c)\n"
      ],
      "metadata": {
        "colab": {
          "base_uri": "https://localhost:8080/"
        },
        "id": "5wPW_9EGehPN",
        "outputId": "7032c155-ec1e-44d2-8e3b-9aa0575fa734"
      },
      "execution_count": 11,
      "outputs": [
        {
          "output_type": "stream",
          "name": "stdout",
          "text": [
            "RRR movie has been released i went to movie with my friends\n"
          ]
        }
      ]
    },
    {
      "cell_type": "code",
      "source": [
        "quantity =int(input(\"enter quantity\"))\n",
        "itemno =int(input(\"enter item number\"))\n",
        "price = int(input(\"enter amount\"))\n",
        "total = quantity * price\n",
        "bill =\"i buy {} bags item no is {} total price is {}\"\n",
        "print(bill.format(quantity,itemno,total))"
      ],
      "metadata": {
        "colab": {
          "base_uri": "https://localhost:8080/"
        },
        "id": "8h4o3LM3hlfb",
        "outputId": "c52fd338-d661-4c39-a679-8aec6724f677"
      },
      "execution_count": 16,
      "outputs": [
        {
          "output_type": "stream",
          "name": "stdout",
          "text": [
            "enter quantity45\n",
            "enter item number5\n",
            "enter amount500\n",
            "i buy 45 bags item no is 5 total price is 22500\n"
          ]
        }
      ]
    },
    {
      "cell_type": "code",
      "source": [
        "#marks\n",
        "a = int(input(\"enter the marks\"))\n",
        "b = int(input(\"enter the marks\"))\n",
        "c = int(input(\"enter the marks\"))\n",
        "d = int(input(\"enter the marks\"))\n",
        "result =\"sub a {}, sub b {},sub c{}, sub d{}\"\n",
        "print(result.format(a,b,c,d))"
      ],
      "metadata": {
        "colab": {
          "base_uri": "https://localhost:8080/"
        },
        "id": "eyQC5QDTlhMw",
        "outputId": "b9be6649-c082-449c-d549-0dc12f7b5b92"
      },
      "execution_count": 18,
      "outputs": [
        {
          "output_type": "stream",
          "name": "stdout",
          "text": [
            "enter the marks45\n",
            "enter the marks56\n",
            "enter the marks89\n",
            "enter the marks56\n",
            "sub a 45, sub b 56,sub c89, sub d56\n"
          ]
        }
      ]
    },
    {
      "cell_type": "code",
      "source": [
        "#escape characters\n",
        "a =  \"we are the so called \\\"vikings\\\" from the north.\"\n",
        "print(a)"
      ],
      "metadata": {
        "colab": {
          "base_uri": "https://localhost:8080/"
        },
        "id": "pxtuNMwknIvI",
        "outputId": "dfc15d9c-4078-47fc-a9ad-eed38df12bef"
      },
      "execution_count": 19,
      "outputs": [
        {
          "output_type": "stream",
          "name": "stdout",
          "text": [
            "we are the so called \"vikings\" from the north.\n"
          ]
        }
      ]
    },
    {
      "cell_type": "code",
      "source": [
        "text = \"this will insert one \\\\ (backslash).\"\n",
        "print(text)"
      ],
      "metadata": {
        "colab": {
          "base_uri": "https://localhost:8080/"
        },
        "id": "x4QRxYYPow8n",
        "outputId": "ca823a44-f7ba-48bb-ca9a-b5c77e51d9a9"
      },
      "execution_count": 20,
      "outputs": [
        {
          "output_type": "stream",
          "name": "stdout",
          "text": [
            "this will insert one \\ (backslash).\n"
          ]
        }
      ]
    },
    {
      "cell_type": "code",
      "source": [
        ""
      ],
      "metadata": {
        "id": "-Wx6PLV5pG5G"
      },
      "execution_count": null,
      "outputs": []
    },
    {
      "cell_type": "code",
      "source": [
        "# new line \n",
        "text = \"hello\\nworld\"\n",
        "print(text)"
      ],
      "metadata": {
        "colab": {
          "base_uri": "https://localhost:8080/"
        },
        "id": "y_mebMLepHHV",
        "outputId": "02ea4ae1-4b44-45af-d067-f362981c8178"
      },
      "execution_count": 22,
      "outputs": [
        {
          "output_type": "stream",
          "name": "stdout",
          "text": [
            "hello\n",
            "world\n"
          ]
        }
      ]
    },
    {
      "cell_type": "code",
      "source": [
        "#string methods\n",
        "a = \"yeswanth\"\n",
        "b = a.capitalize()\n",
        "print(b)"
      ],
      "metadata": {
        "colab": {
          "base_uri": "https://localhost:8080/"
        },
        "id": "9tLj1xG9pv2u",
        "outputId": "5339d7dc-9277-47db-ac44-290f0ba64ad5"
      },
      "execution_count": 27,
      "outputs": [
        {
          "output_type": "stream",
          "name": "stdout",
          "text": [
            "Yeswanth\n"
          ]
        }
      ]
    },
    {
      "cell_type": "code",
      "source": [
        "a = \"yeswanth\"\n",
        "b = a.casefold()\n",
        "print(b)"
      ],
      "metadata": {
        "colab": {
          "base_uri": "https://localhost:8080/"
        },
        "id": "io07_-qvrdkO",
        "outputId": "3082fede-2d75-4733-9a11-28cf0c9274b6"
      },
      "execution_count": 28,
      "outputs": [
        {
          "output_type": "stream",
          "name": "stdout",
          "text": [
            "yeswanth\n"
          ]
        }
      ]
    },
    {
      "cell_type": "code",
      "source": [
        "a = \"yeswanth\"\n",
        "b = a.center(30)\n",
        "print(b)"
      ],
      "metadata": {
        "colab": {
          "base_uri": "https://localhost:8080/"
        },
        "id": "N6QdeRuorrq0",
        "outputId": "3b79dc51-95c0-4f01-e1a8-809a9dfd43c2"
      },
      "execution_count": 29,
      "outputs": [
        {
          "output_type": "stream",
          "name": "stdout",
          "text": [
            "           yeswanth           \n"
          ]
        }
      ]
    }
  ]
}