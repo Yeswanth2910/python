{
  "nbformat": 4,
  "nbformat_minor": 0,
  "metadata": {
    "colab": {
      "name": "over view",
      "provenance": [],
      "authorship_tag": "ABX9TyMKndD6Pkgs4PH90VKPP/qB",
      "include_colab_link": true
    },
    "kernelspec": {
      "name": "python3",
      "display_name": "Python 3"
    },
    "language_info": {
      "name": "python"
    }
  },
  "cells": [
    {
      "cell_type": "markdown",
      "metadata": {
        "id": "view-in-github",
        "colab_type": "text"
      },
      "source": [
        "<a href=\"https://colab.research.google.com/github/Yeswanth2910/python/blob/main/over_view.ipynb\" target=\"_parent\"><img src=\"https://colab.research.google.com/assets/colab-badge.svg\" alt=\"Open In Colab\"/></a>"
      ]
    },
    {
      "cell_type": "code",
      "execution_count": 1,
      "metadata": {
        "colab": {
          "base_uri": "https://localhost:8080/"
        },
        "id": "CCFJpd3CuuOC",
        "outputId": "fbd3074b-350d-489e-d001-fc9fd699e33d"
      },
      "outputs": [
        {
          "output_type": "stream",
          "name": "stdout",
          "text": [
            "Five is greater than two\n"
          ]
        }
      ],
      "source": [
        "if 5>2 :\n",
        "  print(\"Five is greater than two\")"
      ]
    },
    {
      "cell_type": "code",
      "source": [
        "x = int(3)\n",
        "y = str(3)\n",
        "z = float(3)\n",
        "print(x)\n",
        "print(y)\n",
        "print(z)"
      ],
      "metadata": {
        "colab": {
          "base_uri": "https://localhost:8080/"
        },
        "id": "qWJQiFlzu2JE",
        "outputId": "8d083655-600e-4727-9268-926cec07ab10"
      },
      "execution_count": 2,
      "outputs": [
        {
          "output_type": "stream",
          "name": "stdout",
          "text": [
            "3\n",
            "3\n",
            "3.0\n"
          ]
        }
      ]
    },
    {
      "cell_type": "code",
      "source": [
        "x = 3\n",
        "y = \"john\"\n",
        "print(type(x))\n",
        "print(type(y))"
      ],
      "metadata": {
        "colab": {
          "base_uri": "https://localhost:8080/"
        },
        "id": "WaJfREpzu5jy",
        "outputId": "6d4ed29e-1647-4b53-cf21-efcea9fc7e54"
      },
      "execution_count": 3,
      "outputs": [
        {
          "output_type": "stream",
          "name": "stdout",
          "text": [
            "<class 'int'>\n",
            "<class 'str'>\n"
          ]
        }
      ]
    },
    {
      "cell_type": "code",
      "source": [
        "x,y,z = \"amruth\",\"varsh\",\"ashok\"\n",
        "print(x)\n",
        "print(y)\n",
        "print(z)"
      ],
      "metadata": {
        "colab": {
          "base_uri": "https://localhost:8080/"
        },
        "id": "kh_6id1yvAay",
        "outputId": "ac9acfe5-4e0f-4707-97c8-e11ddfa9a845"
      },
      "execution_count": 4,
      "outputs": [
        {
          "output_type": "stream",
          "name": "stdout",
          "text": [
            "amruth\n",
            "varsh\n",
            "ashok\n"
          ]
        }
      ]
    },
    {
      "cell_type": "code",
      "source": [
        "x = \"we all chil\"\n",
        "print(x)"
      ],
      "metadata": {
        "colab": {
          "base_uri": "https://localhost:8080/"
        },
        "id": "LW1qoLPdvEJ6",
        "outputId": "7028af98-ad38-4e95-93ba-4ba65b7b603b"
      },
      "execution_count": 5,
      "outputs": [
        {
          "output_type": "stream",
          "name": "stdout",
          "text": [
            "we all chil\n"
          ]
        }
      ]
    },
    {
      "cell_type": "code",
      "source": [
        "x = \"print\"\n",
        "y = \"amruth\"\n",
        "z = \"dp\"\n",
        "print(x+y+z)"
      ],
      "metadata": {
        "colab": {
          "base_uri": "https://localhost:8080/"
        },
        "id": "C34gsjbJvHwx",
        "outputId": "9ea24f54-9e0d-4a33-a1c5-e4ae0d11158d"
      },
      "execution_count": 6,
      "outputs": [
        {
          "output_type": "stream",
          "name": "stdout",
          "text": [
            "printamruthdp\n"
          ]
        }
      ]
    },
    {
      "cell_type": "code",
      "source": [
        "x = \"print\"\n",
        "y = 5\n",
        "print(x,y)"
      ],
      "metadata": {
        "colab": {
          "base_uri": "https://localhost:8080/"
        },
        "id": "mrZomGqWvMFh",
        "outputId": "fb4acc4d-96b6-45fe-cbc7-487a0f6eda9a"
      },
      "execution_count": 7,
      "outputs": [
        {
          "output_type": "stream",
          "name": "stdout",
          "text": [
            "print 5\n"
          ]
        }
      ]
    },
    {
      "cell_type": "code",
      "source": [
        "x = \"awesome\"\n",
        "\n",
        "def myfunc():\n",
        "  print(x+\"Python is \")\n",
        "\n",
        "myfunc()"
      ],
      "metadata": {
        "colab": {
          "base_uri": "https://localhost:8080/"
        },
        "id": "6CM2aWDavP5C",
        "outputId": "9f8f6974-da05-4cdd-c401-01f00497d89c"
      },
      "execution_count": 8,
      "outputs": [
        {
          "output_type": "stream",
          "name": "stdout",
          "text": [
            "awesomePython is \n"
          ]
        }
      ]
    },
    {
      "cell_type": "code",
      "source": [
        "x = \"awesome\"\n",
        "def myfunc():\n",
        "  x = \"amruth\"\n",
        "  print(x+\" weds tanusha\")\n",
        "myfunc()\n",
        "print(\"amruth\"+x)"
      ],
      "metadata": {
        "colab": {
          "base_uri": "https://localhost:8080/"
        },
        "id": "f4sROMrTvTv5",
        "outputId": "0a8a1183-f9cb-440a-cef7-b6db24f1533e"
      },
      "execution_count": 9,
      "outputs": [
        {
          "output_type": "stream",
          "name": "stdout",
          "text": [
            "amruth weds tanusha\n",
            "amruthawesome\n"
          ]
        }
      ]
    },
    {
      "cell_type": "code",
      "source": [
        "a = \"kane williamson\"\n",
        "print(a[1])"
      ],
      "metadata": {
        "colab": {
          "base_uri": "https://localhost:8080/"
        },
        "id": "OJUeYaz0vX1J",
        "outputId": "0349cc9b-b61e-468f-9070-62fc7fb5795f"
      },
      "execution_count": 10,
      "outputs": [
        {
          "output_type": "stream",
          "name": "stdout",
          "text": [
            "a\n"
          ]
        }
      ]
    },
    {
      "cell_type": "code",
      "source": [
        "a = (\"dajchyuglfihwe oefhiowjkf fbauifhbf\")\n",
        "print(\"free\" in a)"
      ],
      "metadata": {
        "colab": {
          "base_uri": "https://localhost:8080/"
        },
        "id": "gyV_NhA7vbko",
        "outputId": "30d2433c-f8a6-4b78-d2fd-99a601f8858d"
      },
      "execution_count": 11,
      "outputs": [
        {
          "output_type": "stream",
          "name": "stdout",
          "text": [
            "False\n"
          ]
        }
      ]
    }
  ]
}