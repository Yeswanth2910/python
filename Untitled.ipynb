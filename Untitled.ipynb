{
  "cells": [
    {
      "cell_type": "markdown",
      "metadata": {
        "id": "view-in-github",
        "colab_type": "text"
      },
      "source": [
        "<a href=\"https://colab.research.google.com/github/Yeswanth2910/python/blob/main/Untitled.ipynb\" target=\"_parent\"><img src=\"https://colab.research.google.com/assets/colab-badge.svg\" alt=\"Open In Colab\"/></a>"
      ]
    },
    {
      "cell_type": "markdown",
      "id": "bc7768b2",
      "metadata": {
        "id": "bc7768b2"
      },
      "source": [
        "# control statements"
      ]
    },
    {
      "cell_type": "code",
      "execution_count": null,
      "id": "cc396b9b",
      "metadata": {
        "id": "cc396b9b",
        "outputId": "ebfc29b7-a706-41eb-a994-1b9f0089be86"
      },
      "outputs": [
        {
          "name": "stdout",
          "output_type": "stream",
          "text": [
            "you are eligible for voting\n"
          ]
        }
      ],
      "source": [
        "a=20\n",
        "if a>=20:\n",
        "         print(\"you are eligible for voting\")\n",
        "else:\n",
        "         print(\"you are not eligible for voting\")"
      ]
    },
    {
      "cell_type": "code",
      "execution_count": null,
      "id": "60699f56",
      "metadata": {
        "id": "60699f56",
        "outputId": "7d5610fa-5f9c-469a-bb17-756628668946"
      },
      "outputs": [
        {
          "name": "stdout",
          "output_type": "stream",
          "text": [
            "enter the age20\n",
            "you are eligible for voting\n"
          ]
        }
      ],
      "source": [
        "a=int(input(\"enter the age\"))\n",
        "if a>=20:\n",
        "    print(\"you are eligible for voting\")\n",
        "else:\n",
        "         print(\"you are not eligible for voting\")"
      ]
    },
    {
      "cell_type": "markdown",
      "id": "c72d91f6",
      "metadata": {
        "id": "c72d91f6"
      },
      "source": [
        "# greatest of 3 no..s"
      ]
    },
    {
      "cell_type": "code",
      "execution_count": null,
      "id": "20d0485a",
      "metadata": {
        "id": "20d0485a",
        "outputId": "b7e3aaed-c4bd-4cfe-968c-5dd6fe9c9d07"
      },
      "outputs": [
        {
          "name": "stdout",
          "output_type": "stream",
          "text": [
            "c is greater\n"
          ]
        }
      ],
      "source": [
        "a=20\n",
        "b=25\n",
        "c=35\n",
        "if a>b & a>c:\n",
        "    print(\"a is greater\")\n",
        "elif b>c and b>a:\n",
        "    print(\"b is greater\")\n",
        "elif c>a and c>b:\n",
        "    print(\"c is greater\")\n",
        "else:\n",
        "    print(\"it is error\")"
      ]
    },
    {
      "cell_type": "code",
      "execution_count": null,
      "id": "d7ac34b8",
      "metadata": {
        "id": "d7ac34b8",
        "outputId": "980d1a0d-0ac4-4344-d852-b76ccbe21c34"
      },
      "outputs": [
        {
          "name": "stdout",
          "output_type": "stream",
          "text": [
            "enter the no20\n",
            "enter the no30\n",
            "enter the no40\n",
            "c is greater\n"
          ]
        }
      ],
      "source": [
        "a=int(input(\"enter the no\"))\n",
        "b=int(input(\"enter the no\"))\n",
        "c=int(input(\"enter the no\"))\n",
        "if a>b & a>c:\n",
        "    print(\"a is greater\")\n",
        "elif b>c and b>a:\n",
        "    print(\"b is greater\")\n",
        "elif c>a and c>b:\n",
        "    print(\"c is greater\")"
      ]
    },
    {
      "cell_type": "code",
      "execution_count": null,
      "id": "335a6350",
      "metadata": {
        "id": "335a6350",
        "outputId": "1fd7b1a1-1110-445d-f605-6733df5e3cbf"
      },
      "outputs": [
        {
          "name": "stdout",
          "output_type": "stream",
          "text": [
            "enter the no2\n",
            "enter the no3\n",
            "enter the no4\n",
            "enter the no5\n",
            "enter the no6\n",
            "e is greater\n"
          ]
        }
      ],
      "source": [
        "a=int(input(\"enter the no\"))\n",
        "b=int(input(\"enter the no\"))\n",
        "c=int(input(\"enter the no\"))\n",
        "d=int(input(\"enter the no\"))\n",
        "e=int(input(\"enter the no\"))\n",
        "if a>b and a>c and a>d and a>e:\n",
        "    print(\"a is greater\")\n",
        "elif b>c and b>d and b>e and b>a:\n",
        "    print(\"b is greater\")\n",
        "elif c>d and c>e and c>a and c>b:\n",
        "    print(\"c is greater\")\n",
        "elif d>e and d>a and d>b and d>c:\n",
        "    print(\"d is greater\")\n",
        "else:\n",
        "    print(\"e is greater\")"
      ]
    },
    {
      "cell_type": "markdown",
      "id": "6bb36a1c",
      "metadata": {
        "id": "6bb36a1c"
      },
      "source": [
        "# subject marks\n"
      ]
    },
    {
      "cell_type": "markdown",
      "id": "4d8903eb",
      "metadata": {
        "id": "4d8903eb"
      },
      "source": [
        "# 1 to 100 series"
      ]
    },
    {
      "cell_type": "code",
      "execution_count": null,
      "id": "62cba8d4",
      "metadata": {
        "id": "62cba8d4",
        "outputId": "2ebf8e23-8cd8-49f1-d3d0-76d0783ea1be"
      },
      "outputs": [
        {
          "ename": "IndentationError",
          "evalue": "expected an indented block (Temp/ipykernel_11236/583857560.py, line 2)",
          "output_type": "error",
          "traceback": [
            "\u001b[1;36m  File \u001b[1;32m\"C:\\Users\\CSE22004\\AppData\\Local\\Temp/ipykernel_11236/583857560.py\"\u001b[1;36m, line \u001b[1;32m2\u001b[0m\n\u001b[1;33m    if x%2 =0:\u001b[0m\n\u001b[1;37m    ^\u001b[0m\n\u001b[1;31mIndentationError\u001b[0m\u001b[1;31m:\u001b[0m expected an indented block\n"
          ]
        }
      ],
      "source": [
        "for x in range(101):\n",
        "if x%2 =0:\n",
        "          print(x)\n",
        "else:\n",
        "    print(\"error\")\n",
        "    \n",
        "    \n",
        "      \n"
      ]
    },
    {
      "cell_type": "code",
      "execution_count": null,
      "id": "1b98bd03",
      "metadata": {
        "id": "1b98bd03"
      },
      "outputs": [],
      "source": [
        ""
      ]
    }
  ],
  "metadata": {
    "kernelspec": {
      "display_name": "Python 3 (ipykernel)",
      "language": "python",
      "name": "python3"
    },
    "language_info": {
      "codemirror_mode": {
        "name": "ipython",
        "version": 3
      },
      "file_extension": ".py",
      "mimetype": "text/x-python",
      "name": "python",
      "nbconvert_exporter": "python",
      "pygments_lexer": "ipython3",
      "version": "3.9.7"
    },
    "colab": {
      "name": "Untitled.ipynb",
      "provenance": [],
      "include_colab_link": true
    }
  },
  "nbformat": 4,
  "nbformat_minor": 5
}