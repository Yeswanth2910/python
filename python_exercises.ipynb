{
  "cells": [
    {
      "cell_type": "markdown",
      "metadata": {
        "id": "view-in-github",
        "colab_type": "text"
      },
      "source": [
        "<a href=\"https://colab.research.google.com/github/Yeswanth2910/python/blob/main/python_exercises.ipynb\" target=\"_parent\"><img src=\"https://colab.research.google.com/assets/colab-badge.svg\" alt=\"Open In Colab\"/></a>"
      ]
    },
    {
      "cell_type": "markdown",
      "id": "4bb09dd0",
      "metadata": {
        "id": "4bb09dd0"
      },
      "source": [
        "# Average of two numbers"
      ]
    },
    {
      "cell_type": "code",
      "execution_count": null,
      "id": "3a9c0fe4",
      "metadata": {
        "id": "3a9c0fe4",
        "outputId": "8098c039-e12b-41fd-fac3-d471f0546f6f"
      },
      "outputs": [
        {
          "name": "stdout",
          "output_type": "stream",
          "text": [
            "23.333333333333332\n"
          ]
        }
      ],
      "source": [
        "a=10\n",
        "b=30\n",
        "c=30\n",
        "average=(a+b+c)/3\n",
        "print(average)"
      ]
    },
    {
      "cell_type": "markdown",
      "id": "650a64c8",
      "metadata": {
        "id": "650a64c8"
      },
      "source": [
        ""
      ]
    },
    {
      "cell_type": "markdown",
      "id": "9250df78",
      "metadata": {
        "id": "9250df78"
      },
      "source": [
        "# multiplication of 3 no..."
      ]
    },
    {
      "cell_type": "code",
      "execution_count": null,
      "id": "3a10f180",
      "metadata": {
        "id": "3a10f180",
        "outputId": "60addf12-b773-4655-a35f-5a226bc819ff"
      },
      "outputs": [
        {
          "name": "stdout",
          "output_type": "stream",
          "text": [
            "6000\n",
            "<class 'int'>\n"
          ]
        }
      ],
      "source": [
        "a=10\n",
        "b=30\n",
        "c=20\n",
        "d=a*b*c\n",
        "print(d)\n",
        "print(type(d))"
      ]
    },
    {
      "cell_type": "markdown",
      "id": "be2b8868",
      "metadata": {
        "id": "be2b8868"
      },
      "source": [
        ""
      ]
    },
    {
      "cell_type": "markdown",
      "id": "21813c50",
      "metadata": {
        "id": "21813c50"
      },
      "source": [
        ""
      ]
    },
    {
      "cell_type": "markdown",
      "id": "adc9d3d0",
      "metadata": {
        "id": "adc9d3d0"
      },
      "source": [
        "# dynamic addition of 2 no..."
      ]
    },
    {
      "cell_type": "code",
      "execution_count": null,
      "id": "797c7c8c",
      "metadata": {
        "id": "797c7c8c",
        "outputId": "8e32cfe2-239c-47d7-9106-66bb311477e1"
      },
      "outputs": [
        {
          "name": "stdout",
          "output_type": "stream",
          "text": [
            "enter a no:10\n",
            "enter a no:20\n",
            "30\n",
            "<class 'int'>\n"
          ]
        }
      ],
      "source": [
        "a=int(input(\"enter a no:\"))\n",
        "b=o:\"))int(input(\"enter a no:\"))\n",
        "addition=(a+b)\n",
        "print(addition)\n",
        "print(type(addition))\n"
      ]
    },
    {
      "cell_type": "markdown",
      "id": "d596c09e",
      "metadata": {
        "id": "d596c09e"
      },
      "source": [
        "# Dynamic of 3 nos.."
      ]
    },
    {
      "cell_type": "code",
      "execution_count": null,
      "id": "39f2b412",
      "metadata": {
        "id": "39f2b412",
        "outputId": "dd784bc9-9687-4aa9-d819-bab7c07cb91e"
      },
      "outputs": [
        {
          "name": "stdout",
          "output_type": "stream",
          "text": [
            "enter a no:10\n",
            "enter a no:20\n",
            "enter a no:30\n",
            "6000\n",
            "<class 'int'>\n"
          ]
        }
      ],
      "source": [
        "a=int(input(\"enter a no:\"))\n",
        "b=int(input(\"enter a no:\"))\n",
        "c=int(input(\"enter a no:\"))\n",
        "multi=(a*b*c)\n",
        "print(multi)\n",
        "print(type(multi))"
      ]
    },
    {
      "cell_type": "markdown",
      "id": "eac24cca",
      "metadata": {
        "id": "eac24cca"
      },
      "source": [
        "# dynamic avg of 3 nos"
      ]
    },
    {
      "cell_type": "code",
      "execution_count": null,
      "id": "c3f15d28",
      "metadata": {
        "id": "c3f15d28",
        "outputId": "596d9dbf-9762-4ccc-a21b-1cb8c33fad1f"
      },
      "outputs": [
        {
          "name": "stdout",
          "output_type": "stream",
          "text": [
            "enter a no:10\n",
            "enter a no:20\n",
            "enter a no:30\n",
            "20.0\n",
            "<class 'float'>\n"
          ]
        }
      ],
      "source": [
        "a=int(input(\"enter a no:\"))\n",
        "b=int(input(\"enter a no:\"))\n",
        "c=int(input(\"enter a no:\"))\n",
        "avg=(a+b+c)/3\n",
        "print(avg)\n",
        "print(type(avg))"
      ]
    },
    {
      "cell_type": "markdown",
      "id": "97399430",
      "metadata": {
        "id": "97399430"
      },
      "source": [
        "# Type conversions"
      ]
    },
    {
      "cell_type": "markdown",
      "id": "5a07e9a8",
      "metadata": {
        "id": "5a07e9a8"
      },
      "source": [
        "# 1.int to float"
      ]
    },
    {
      "cell_type": "code",
      "execution_count": null,
      "id": "82286075",
      "metadata": {
        "id": "82286075",
        "outputId": "09f2d7f5-c1f5-45e7-c8d8-5490ea07d8c7"
      },
      "outputs": [
        {
          "name": "stdout",
          "output_type": "stream",
          "text": [
            "<class 'int'>\n",
            "<class 'float'>\n"
          ]
        }
      ],
      "source": [
        "a=10\n",
        "print(type(a))\n",
        "b=float(a)\n",
        "print(type(b))"
      ]
    },
    {
      "cell_type": "markdown",
      "id": "74ac1493",
      "metadata": {
        "id": "74ac1493"
      },
      "source": [
        "# 2.float to int"
      ]
    },
    {
      "cell_type": "code",
      "execution_count": null,
      "id": "d1c6226e",
      "metadata": {
        "id": "d1c6226e",
        "outputId": "2b6dd24e-d7a4-48c6-87f5-66aec45963f2"
      },
      "outputs": [
        {
          "name": "stdout",
          "output_type": "stream",
          "text": [
            "<class 'int'>\n",
            "<class 'int'>\n",
            "10\n"
          ]
        }
      ],
      "source": [
        "a=10\n",
        "print(type(a))\n",
        "b=int(a)\n",
        "print(type(b))\n",
        "print(b)"
      ]
    },
    {
      "cell_type": "markdown",
      "id": "1e77a1b9",
      "metadata": {
        "id": "1e77a1b9"
      },
      "source": [
        "# 3.int to string"
      ]
    },
    {
      "cell_type": "code",
      "execution_count": null,
      "id": "a71a8ed6",
      "metadata": {
        "id": "a71a8ed6",
        "outputId": "dfbe2af4-6198-4c45-dd65-dfd446d75984"
      },
      "outputs": [
        {
          "name": "stdout",
          "output_type": "stream",
          "text": [
            "<class 'int'>\n",
            "<class 'str'>\n",
            "10\n"
          ]
        }
      ],
      "source": [
        "a=10\n",
        "print(type(a))\n",
        "b=str(a)\n",
        "print(type(b))\n",
        "print(b)"
      ]
    },
    {
      "cell_type": "markdown",
      "id": "f3413aef",
      "metadata": {
        "id": "f3413aef"
      },
      "source": [
        "# 4.float to string"
      ]
    },
    {
      "cell_type": "code",
      "execution_count": null,
      "id": "dcbb4fa1",
      "metadata": {
        "id": "dcbb4fa1",
        "outputId": "57cc296e-3642-426b-871d-601b4be42f78"
      },
      "outputs": [
        {
          "name": "stdout",
          "output_type": "stream",
          "text": [
            "<class 'int'>\n",
            "<class 'str'>\n",
            "10\n"
          ]
        }
      ],
      "source": [
        "a=10\n",
        "print(type(a))\n",
        "b=str(a)\n",
        "print(type(b))\n",
        "print(b)"
      ]
    },
    {
      "cell_type": "markdown",
      "id": "5b508197",
      "metadata": {
        "id": "5b508197"
      },
      "source": [
        "# 5.string to int"
      ]
    },
    {
      "cell_type": "code",
      "execution_count": null,
      "id": "9648544f",
      "metadata": {
        "id": "9648544f",
        "outputId": "ced63f9b-7e70-4390-e144-8df2a6c17580"
      },
      "outputs": [
        {
          "name": "stdout",
          "output_type": "stream",
          "text": [
            "<class 'int'>\n",
            "<class 'int'>\n",
            "10\n"
          ]
        }
      ],
      "source": [
        "a=\"10\"\n",
        "print(type(a))\n",
        "b=int(a)\n",
        "print(type(b))\n",
        "print(b)"
      ]
    },
    {
      "cell_type": "markdown",
      "id": "52cde37d",
      "metadata": {
        "id": "52cde37d"
      },
      "source": [
        "# boolean"
      ]
    },
    {
      "cell_type": "code",
      "execution_count": null,
      "id": "b76effc4",
      "metadata": {
        "id": "b76effc4",
        "outputId": "83f7bc26-b4f3-406c-c8b0-782171e2d85c"
      },
      "outputs": [
        {
          "name": "stdout",
          "output_type": "stream",
          "text": [
            "True\n"
          ]
        }
      ],
      "source": [
        "a=30\n",
        "b=20\n",
        "c=a>b\n",
        "print(bool(c))"
      ]
    },
    {
      "cell_type": "markdown",
      "id": "19356f09",
      "metadata": {
        "id": "19356f09"
      },
      "source": [
        "# boolean to int"
      ]
    },
    {
      "cell_type": "code",
      "execution_count": null,
      "id": "79639aa6",
      "metadata": {
        "id": "79639aa6",
        "outputId": "fc0bee98-3061-4fa4-f2ed-46b38a3772ca"
      },
      "outputs": [
        {
          "name": "stdout",
          "output_type": "stream",
          "text": [
            "<class 'int'>\n",
            "<class 'bool'>\n",
            "True\n"
          ]
        }
      ],
      "source": [
        "a=10\n",
        "print(type(a))\n",
        "b=bool(a)\n",
        "print(type(b))\n",
        "print(b)"
      ]
    },
    {
      "cell_type": "code",
      "execution_count": null,
      "id": "5d172212",
      "metadata": {
        "id": "5d172212",
        "outputId": "e50d1504-373a-4c72-a7aa-6700a6780daa"
      },
      "outputs": [
        {
          "name": "stdout",
          "output_type": "stream",
          "text": [
            "20\n",
            "True\n"
          ]
        }
      ],
      "source": [
        "a=30\n",
        "b=20\n",
        "c=a>b\n",
        "print(str(b))\n",
        "print(c)"
      ]
    },
    {
      "cell_type": "markdown",
      "id": "96c104a5",
      "metadata": {
        "id": "96c104a5"
      },
      "source": [
        "# boolean to string"
      ]
    },
    {
      "cell_type": "code",
      "execution_count": null,
      "id": "13a4bc02",
      "metadata": {
        "id": "13a4bc02",
        "outputId": "9f361166-91c9-441f-8020-e972bc836b14"
      },
      "outputs": [
        {
          "name": "stdout",
          "output_type": "stream",
          "text": [
            "<class 'bool'>\n",
            "<class 'str'>\n"
          ]
        }
      ],
      "source": [
        "a=bool(30)\n",
        "print(type(a))\n",
        "b=str(a)\n",
        "print(type(b))\n"
      ]
    },
    {
      "cell_type": "markdown",
      "id": "a0701039",
      "metadata": {
        "id": "a0701039"
      },
      "source": [
        "# complex"
      ]
    },
    {
      "cell_type": "code",
      "execution_count": null,
      "id": "93886ba5",
      "metadata": {
        "id": "93886ba5",
        "outputId": "70922a98-1af7-4760-c2b1-7241e130d687"
      },
      "outputs": [
        {
          "name": "stdout",
          "output_type": "stream",
          "text": [
            "<class 'complex'>\n"
          ]
        }
      ],
      "source": [
        "a=5+2j\n",
        "print(type(a))\n"
      ]
    },
    {
      "cell_type": "code",
      "execution_count": null,
      "id": "d027919c",
      "metadata": {
        "id": "d027919c"
      },
      "outputs": [],
      "source": [
        ""
      ]
    }
  ],
  "metadata": {
    "kernelspec": {
      "display_name": "Python 3 (ipykernel)",
      "language": "python",
      "name": "python3"
    },
    "language_info": {
      "codemirror_mode": {
        "name": "ipython",
        "version": 3
      },
      "file_extension": ".py",
      "mimetype": "text/x-python",
      "name": "python",
      "nbconvert_exporter": "python",
      "pygments_lexer": "ipython3",
      "version": "3.9.7"
    },
    "colab": {
      "name": "python exercises.ipynb",
      "provenance": [],
      "include_colab_link": true
    }
  },
  "nbformat": 4,
  "nbformat_minor": 5
}