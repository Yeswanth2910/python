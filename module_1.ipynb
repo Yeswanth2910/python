{
  "nbformat": 4,
  "nbformat_minor": 0,
  "metadata": {
    "colab": {
      "name": "module 1",
      "provenance": [],
      "authorship_tag": "ABX9TyMAeHPrn/3nRFW28IRboiws",
      "include_colab_link": true
    },
    "kernelspec": {
      "name": "python3",
      "display_name": "Python 3"
    },
    "language_info": {
      "name": "python"
    }
  },
  "cells": [
    {
      "cell_type": "markdown",
      "metadata": {
        "id": "view-in-github",
        "colab_type": "text"
      },
      "source": [
        "<a href=\"https://colab.research.google.com/github/Yeswanth2910/python/blob/main/module_1.ipynb\" target=\"_parent\"><img src=\"https://colab.research.google.com/assets/colab-badge.svg\" alt=\"Open In Colab\"/></a>"
      ]
    },
    {
      "cell_type": "code",
      "execution_count": 2,
      "metadata": {
        "id": "iyPWm3mud14O",
        "colab": {
          "base_uri": "https://localhost:8080/"
        },
        "outputId": "9a8b0dfd-ee5a-4b65-aa4d-c5ce15b2baed"
      },
      "outputs": [
        {
          "output_type": "stream",
          "name": "stdout",
          "text": [
            "enter the number5\n",
            "5\n"
          ]
        }
      ],
      "source": [
        "## Accept input from user and store it in variable and print the value.\n",
        "a=int(input(\"enter the number\"))\n",
        "print(a)"
      ]
    },
    {
      "cell_type": "code",
      "source": [
        "## Use of print statements and use of (.format )for printing different data types\n",
        "a=\"RRR is {trail} movie\"\n",
        "b=\"radha is number one\"\n",
        "print(a.format(trail=\"always\"))"
      ],
      "metadata": {
        "id": "SR1fcP2oft8y",
        "colab": {
          "base_uri": "https://localhost:8080/"
        },
        "outputId": "86c0e436-f6de-4838-d8cc-bed828077e27"
      },
      "execution_count": 3,
      "outputs": [
        {
          "output_type": "stream",
          "name": "stdout",
          "text": [
            "RRR is always movie\n"
          ]
        }
      ]
    },
    {
      "cell_type": "code",
      "source": [
        "## Take 2 numbers as user input and add, multiply, divide, subtract, remainder and print t\n",
        "x=float(input(\"enter a number\"))\n",
        "y=float(input(\"enter a number\"))\n",
        "z=x+y\n",
        "l=x-y\n",
        "m=x*y\n",
        "n=x/y\n",
        "o=x%y\n",
        "print(\"sum= \",z)\n",
        "print(\"subtract= \",l)\n",
        "print(\"product= \",m)\n",
        "print(\"division= \",n)\n",
        "print(\"remainder= \",o)"
      ],
      "metadata": {
        "colab": {
          "base_uri": "https://localhost:8080/"
        },
        "id": "pI60G1rMrL7S",
        "outputId": "f3c12f7f-2aec-4436-b7e0-0235264e7a94"
      },
      "execution_count": 4,
      "outputs": [
        {
          "output_type": "stream",
          "name": "stdout",
          "text": [
            "enter a number4\n",
            "enter a number5\n",
            "sum=  9.0\n",
            "subtract=  -1.0\n",
            "product=  20.0\n",
            "division=  0.8\n",
            "remainder=  4.0\n"
          ]
        }
      ]
    },
    {
      "cell_type": "code",
      "source": [
        "## Conversion of one unit to another\n",
        "a=float(input())\n",
        "c=float(input())\n",
        "b=a*60\n",
        "d=c*1000\n",
        "print(\"minutes is:\",a)\n",
        "print(\"meters is:\",d)\n"
      ],
      "metadata": {
        "colab": {
          "base_uri": "https://localhost:8080/"
        },
        "id": "iRhWsf-8rQZa",
        "outputId": "9bf5b4f4-cd39-441f-9068-c91cc0d4ccf6"
      },
      "execution_count": 6,
      "outputs": [
        {
          "output_type": "stream",
          "name": "stdout",
          "text": [
            "4\n",
            "8\n",
            "minutes is: 4.0\n",
            "meters is: 8000.0\n"
          ]
        }
      ]
    },
    {
      "cell_type": "code",
      "source": [
        "## Usage of mathematical functions in python like math.ceil, floor, fabs, fmod, trunc,pow,\n",
        "import math\n",
        "a=float(input(\"enter a number \"))\n",
        "print(math.ceil(a))\n",
        "print(math.floor(a))\n",
        "print(math.fabs(a))\n",
        "print(math.trunc(a))\n",
        "print(math.sqrt(a))\n",
        "b=float(input(\"enter a number\"))\n",
        "c=float(input(\"enter a number \"))\n",
        "print(math.fmod(b,c))\n",
        "print(math.pow(b,c))"
      ],
      "metadata": {
        "colab": {
          "base_uri": "https://localhost:8080/"
        },
        "id": "uGzRy51drc0g",
        "outputId": "e49c6bb8-1dfc-4b0b-d73f-e03184bf71ed"
      },
      "execution_count": 9,
      "outputs": [
        {
          "output_type": "stream",
          "name": "stdout",
          "text": [
            "enter a number 9\n",
            "9\n",
            "9\n",
            "9.0\n",
            "9\n",
            "3.0\n",
            "enter a number5\n",
            "enter a number 6\n",
            "5.0\n",
            "15625.0\n"
          ]
        }
      ]
    },
    {
      "cell_type": "code",
      "source": [
        "## Building a mathematical calculator that can perform operations according to user input.\n",
        "a=float(input(\"enter a number\"))\n",
        "b=float(input(\"enter a number\"))\n",
        "o=input(\"enter an opeation\")\n",
        "if o==\"sum\":\n",
        " print(a+b)\n",
        "elif o==\"subtract\":\n",
        " print(a-b)\n",
        "elif o==\"product\":\n",
        " print(a*b)\n",
        "elif o==\"remainder\":\n",
        " print(a%b)\n",
        "else:\n",
        " print(a/b)\n"
      ],
      "metadata": {
        "colab": {
          "base_uri": "https://localhost:8080/"
        },
        "id": "XVbanzcAr7a1",
        "outputId": "a41e346d-b580-46ea-e6c0-f61d94948e44"
      },
      "execution_count": 11,
      "outputs": [
        {
          "output_type": "stream",
          "name": "stdout",
          "text": [
            "enter a number8\n",
            "enter a number9\n",
            "enter an opeation8\n",
            "0.8888888888888888\n"
          ]
        }
      ]
    },
    {
      "cell_type": "code",
      "source": [
        "## Accepting 5 different subject marks from user and displaying the grade of the student.\n",
        "sub1=int(input(\"enter marks\"))\n",
        "sub2=int(input(\"enter marks\"))\n",
        "sub3=int(input(\"enter marks\"))\n",
        "sub4=int(input(\"enter marks\"))\n",
        "sub5=int(input(\"enter marks\"))\n",
        "avg=(sub1+sub2+sub3+sub4+sub5)/5\n",
        "if avg>=90:\n",
        " print(\"a grade\")\n",
        "elif avg>=80:\n",
        " print(\"b grade\")\n",
        "elif avg>=70:\n",
        " print(\"c grade\")\n",
        "elif avg>=60:\n",
        " print(\"d grade\")\n",
        "else:\n",
        " print(\"fail\")"
      ],
      "metadata": {
        "colab": {
          "base_uri": "https://localhost:8080/"
        },
        "id": "hXxgxTXfsV0f",
        "outputId": "5a55b12f-9033-4e23-d616-ac7ac6543c2c"
      },
      "execution_count": 16,
      "outputs": [
        {
          "output_type": "stream",
          "name": "stdout",
          "text": [
            "enter marks85\n",
            "enter marks95\n",
            "enter marks25\n",
            "enter marks54\n",
            "enter marks24\n",
            "fail\n"
          ]
        }
      ]
    },
    {
      "cell_type": "code",
      "source": [
        "## Printing all even numbers, odd numbers, count of even numbers, count of odd numbers wit\n",
        "a=int(input(\"enter range \"))\n",
        "c=0\n",
        "for i in range(1,a+1):\n",
        " if i%2==0:\n",
        "  c+=1\n",
        "  print(i)\n",
        "print(\"even count is \",c)\n",
        "d=0\n",
        "for i in range(1,a+1):\n",
        " if i%2!=0:\n",
        "  d+=1\n",
        "  print(i)\n",
        "print(\"odd count is \",d)"
      ],
      "metadata": {
        "colab": {
          "base_uri": "https://localhost:8080/"
        },
        "id": "jnbtne_3tEYG",
        "outputId": "3e5be830-39ea-4c10-9d2c-34853c19260d"
      },
      "execution_count": 25,
      "outputs": [
        {
          "output_type": "stream",
          "name": "stdout",
          "text": [
            "enter range 5\n",
            "2\n",
            "4\n",
            "even count is  2\n",
            "1\n",
            "3\n",
            "5\n",
            "odd count is  3\n"
          ]
        }
      ]
    },
    {
      "cell_type": "code",
      "source": [
        "## Generate Fibonacci series up to N numbers\n",
        "n=int(input(\"enter a number \"))\n",
        "fac=1\n",
        "for i in range(1,n+1):\n",
        "  fac=fac*i\n",
        "print(fac)"
      ],
      "metadata": {
        "colab": {
          "base_uri": "https://localhost:8080/"
        },
        "id": "_HAz13juuUnY",
        "outputId": "4477a408-fdfa-4379-8f3b-daa4b10f6b31"
      },
      "execution_count": 27,
      "outputs": [
        {
          "output_type": "stream",
          "name": "stdout",
          "text": [
            "enter a number 8\n",
            "40320\n"
          ]
        }
      ]
    },
    {
      "cell_type": "code",
      "source": [
        "## Compute GCD of two given numbers\n",
        "x=int(input(\"enter a number\"))\n",
        "y=int(input(\"enter a number\"))\n",
        "k=x if x<y else y\n",
        "while True:\n",
        " if x%k==0 and y%k==0:\n",
        "  break\n",
        "  k -=1\n",
        "print(k)\n"
      ],
      "metadata": {
        "colab": {
          "base_uri": "https://localhost:8080/"
        },
        "id": "CGTf3usdumm5",
        "outputId": "31c98cf8-b150-457a-8211-4acced861138"
      },
      "execution_count": null,
      "outputs": [
        {
          "name": "stdout",
          "output_type": "stream",
          "text": [
            "enter a number9\n",
            "enter a number10\n"
          ]
        }
      ]
    },
    {
      "cell_type": "code",
      "source": [
        "## check whether the given input is a) palindrome\n",
        "def palindrome(s):\n",
        " return s == s[::-1]\n",
        " s= \"telugu\"\n",
        " ans = palindrome(s)\n",
        " if ans:\n",
        "        print(\"yes\")\n",
        " else:\n",
        "     print(\"no\""
      ],
      "metadata": {
        "id": "6YV8pp0AwLb3"
      },
      "execution_count": null,
      "outputs": []
    },
    {
      "cell_type": "code",
      "source": [
        "## check whether the given input is c) perfect\n",
        "n = int(input(\"enter any number:\"))\n",
        "sum = 0\n",
        "for i in range(1,n):\n",
        "  if(n%i==0):\n",
        "   sum = sum + i\n",
        "   if(sum == n):\n",
        "                 print(\"the number is a perfect number!\")\n",
        "   else:\n",
        "        print(\"the is not a perfect number!\")"
      ],
      "metadata": {
        "id": "1Peb4t3KwwQx"
      },
      "execution_count": null,
      "outputs": []
    },
    {
      "cell_type": "code",
      "source": [
        "## Compute compound interest using loop for a certain principal and interest amount\n",
        "a=int(input(\"principle amount:\"))\n",
        "rate=int(input(\"rate:\"))\n",
        "year=int(input(\"number of years:\"))\n",
        "for i in range(year):\n",
        " a=a+((a*rate)/100)\n",
        " print(a)"
      ],
      "metadata": {
        "id": "Ctzwf9GLxOJt"
      },
      "execution_count": null,
      "outputs": []
    },
    {
      "cell_type": "code",
      "source": [
        ""
      ],
      "metadata": {
        "id": "c0Q894JfxuNg"
      },
      "execution_count": null,
      "outputs": []
    }
  ]
}