{
  "cells": [
    {
      "cell_type": "markdown",
      "metadata": {
        "id": "view-in-github",
        "colab_type": "text"
      },
      "source": [
        "<a href=\"https://colab.research.google.com/github/Yeswanth2910/python/blob/main/While_loop.ipynb\" target=\"_parent\"><img src=\"https://colab.research.google.com/assets/colab-badge.svg\" alt=\"Open In Colab\"/></a>"
      ]
    },
    {
      "cell_type": "markdown",
      "id": "acb3c95f",
      "metadata": {
        "id": "acb3c95f"
      },
      "source": [
        "# loops"
      ]
    },
    {
      "cell_type": "code",
      "execution_count": null,
      "id": "a457938d",
      "metadata": {
        "id": "a457938d",
        "outputId": "8a782360-a16a-49f5-bff0-011deede1804"
      },
      "outputs": [
        {
          "name": "stdout",
          "output_type": "stream",
          "text": [
            "Enter n: 5\n",
            "the sum is: 15\n"
          ]
        }
      ],
      "source": [
        "n = int(input(\"Enter n: \"))\n",
        "sum=0\n",
        "i=1\n",
        "while i<=n:\n",
        "    sum=sum+i\n",
        "    i=i+1\n",
        "print(\"the sum is:\",sum)    \n",
        "    \n",
        "    "
      ]
    },
    {
      "cell_type": "markdown",
      "id": "ce426a68",
      "metadata": {
        "id": "ce426a68"
      },
      "source": [
        "# leap year"
      ]
    },
    {
      "cell_type": "code",
      "execution_count": null,
      "id": "092c986f",
      "metadata": {
        "scrolled": true,
        "id": "092c986f",
        "outputId": "6784b66e-de5f-47b7-923c-df4554c35617"
      },
      "outputs": [
        {
          "name": "stdout",
          "output_type": "stream",
          "text": [
            "2000 is a leap year\n"
          ]
        }
      ],
      "source": [
        "year=2000\n",
        "if(year%400 == 0) and (year%100 ==0):\n",
        "     print(\"{0} is a leap year\".format(year))\n",
        "elif (year % 4 ==0) and (year % 100 != 0):\n",
        "    print(\"{0} is a leap year\".format(year))\n",
        "else:\n",
        "    print(\"{0} is not a leap year\".format(year))"
      ]
    },
    {
      "cell_type": "markdown",
      "id": "1ad53b42",
      "metadata": {
        "id": "1ad53b42"
      },
      "source": [
        "# triangle"
      ]
    },
    {
      "cell_type": "code",
      "execution_count": null,
      "id": "c8b0ddaf",
      "metadata": {
        "id": "c8b0ddaf",
        "outputId": "76b49376-807a-4652-8427-604dc3a9caf5"
      },
      "outputs": [
        {
          "name": "stdout",
          "output_type": "stream",
          "text": [
            "enter a:2\n",
            "enter b:2\n",
            "enter c:2\n",
            "it is a equilateral triangle\n"
          ]
        }
      ],
      "source": [
        "a=int(input(\"enter a:\"))\n",
        "b=int(input(\"enter b:\"))\n",
        "c=int(input(\"enter c:\"))\n",
        "if a==b and b==c:\n",
        "    print(\"it is a equilateral triangle\")\n",
        "elif a==b or b==a or c!=a:\n",
        "    print(\"it is isosceles\")\n",
        "else:\n",
        "    print(\"it is a scaler\")"
      ]
    },
    {
      "cell_type": "markdown",
      "id": "b2e77f81",
      "metadata": {
        "id": "b2e77f81"
      },
      "source": [
        "# minimum among 3"
      ]
    },
    {
      "cell_type": "code",
      "execution_count": null,
      "id": "edeb4a5e",
      "metadata": {
        "id": "edeb4a5e",
        "outputId": "d809a44a-8609-46d4-ba31-36b4728e39f0"
      },
      "outputs": [
        {
          "name": "stdout",
          "output_type": "stream",
          "text": [
            "enter a:1\n",
            "enter b:2\n",
            "enter c:3\n",
            "1 is the smallest of three numbers.\n"
          ]
        }
      ],
      "source": [
        "a=int(input(\"enter a:\"))\n",
        "b=int(input(\"enter b:\"))\n",
        "c=int(input(\"enter c:\"))\n",
        "\n",
        "if a < b and a < c :\n",
        "    smallest = a\n",
        "if b < a and b < c :\n",
        "    smallest = b\n",
        "if c < a and c < b :\n",
        "    smallest = c\n",
        "\n",
        "print(smallest, \"is the smallest of three numbers.\")"
      ]
    },
    {
      "cell_type": "code",
      "execution_count": null,
      "id": "81028f11",
      "metadata": {
        "id": "81028f11"
      },
      "outputs": [],
      "source": [
        ""
      ]
    }
  ],
  "metadata": {
    "kernelspec": {
      "display_name": "Python 3 (ipykernel)",
      "language": "python",
      "name": "python3"
    },
    "language_info": {
      "codemirror_mode": {
        "name": "ipython",
        "version": 3
      },
      "file_extension": ".py",
      "mimetype": "text/x-python",
      "name": "python",
      "nbconvert_exporter": "python",
      "pygments_lexer": "ipython3",
      "version": "3.9.7"
    },
    "colab": {
      "name": "While loop.ipynb",
      "provenance": [],
      "include_colab_link": true
    }
  },
  "nbformat": 4,
  "nbformat_minor": 5
}