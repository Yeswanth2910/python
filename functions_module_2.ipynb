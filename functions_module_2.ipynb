{
  "nbformat": 4,
  "nbformat_minor": 0,
  "metadata": {
    "colab": {
      "name": "functions..module 2",
      "provenance": [],
      "authorship_tag": "ABX9TyMJDy62y6x7JugKyNncbslI",
      "include_colab_link": true
    },
    "kernelspec": {
      "name": "python3",
      "display_name": "Python 3"
    },
    "language_info": {
      "name": "python"
    }
  },
  "cells": [
    {
      "cell_type": "markdown",
      "metadata": {
        "id": "view-in-github",
        "colab_type": "text"
      },
      "source": [
        "<a href=\"https://colab.research.google.com/github/Yeswanth2910/python/blob/main/functions_module_2.ipynb\" target=\"_parent\"><img src=\"https://colab.research.google.com/assets/colab-badge.svg\" alt=\"Open In Colab\"/></a>"
      ]
    },
    {
      "cell_type": "code",
      "execution_count": 2,
      "metadata": {
        "id": "a-r8XeXTjrvN"
      },
      "outputs": [],
      "source": [
        "#Create a function which accepts two inputs from the user and compute n\n"
      ]
    },
    {
      "cell_type": "code",
      "source": [
        "def nCr(n, r):\n",
        "\treturn (fact(n) / (fact(r)\n",
        "\t\t\t\t* fact(n - r)))\n",
        "def fact(n):\n",
        "\tres = 1\t\n",
        "\tfor i in range(2, n+1):\n",
        "\t\tres = res * i\n",
        "\treturn res\n",
        "n = 9\n",
        "r = 5\n",
        "print(int(nCr(n, r)))"
      ],
      "metadata": {
        "colab": {
          "base_uri": "https://localhost:8080/"
        },
        "id": "3WrpuIumlJzn",
        "outputId": "39cb8f62-a211-4137-edcf-ace6b7d182d4"
      },
      "execution_count": 16,
      "outputs": [
        {
          "output_type": "stream",
          "name": "stdout",
          "text": [
            "126\n"
          ]
        }
      ]
    },
    {
      "cell_type": "code",
      "source": [
        "##Program to get the difference between the two lists"
      ],
      "metadata": {
        "id": "BJMVfM50n-yo"
      },
      "execution_count": 10,
      "outputs": []
    },
    {
      "cell_type": "code",
      "source": [
        "def Diff(li1, li2):\n",
        "\tli_dif = [i for i in li1 + li2 if i not in li1 or i not in li2]\n",
        "\treturn li_dif\n",
        "li1 = [5, 4, 2, 25, 30, 35, 40]\n",
        "li2 = [5, 40, 35]\n",
        "li3 = Diff(li1, li2)\n",
        "print(li3)"
      ],
      "metadata": {
        "colab": {
          "base_uri": "https://localhost:8080/"
        },
        "id": "qp1kzFIepEcW",
        "outputId": "f611052d-c171-40a4-c94b-812ca6a30bdc"
      },
      "execution_count": 17,
      "outputs": [
        {
          "output_type": "stream",
          "name": "stdout",
          "text": [
            "[4, 2, 25, 30]\n"
          ]
        }
      ]
    },
    {
      "cell_type": "code",
      "source": [
        "##Program to find the second smallest number and second largest number in a list"
      ],
      "metadata": {
        "id": "cNSqvHK4rj5s"
      },
      "execution_count": 14,
      "outputs": []
    },
    {
      "cell_type": "code",
      "source": [
        ""
      ],
      "metadata": {
        "id": "4FAZjN3RryIC"
      },
      "execution_count": null,
      "outputs": []
    }
  ]
}