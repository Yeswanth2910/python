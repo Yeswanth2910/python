{
  "nbformat": 4,
  "nbformat_minor": 0,
  "metadata": {
    "colab": {
      "name": "module 02",
      "provenance": [],
      "authorship_tag": "ABX9TyNAKgjLBEXbYyRqTWvc+qMS",
      "include_colab_link": true
    },
    "kernelspec": {
      "name": "python3",
      "display_name": "Python 3"
    },
    "language_info": {
      "name": "python"
    }
  },
  "cells": [
    {
      "cell_type": "markdown",
      "metadata": {
        "id": "view-in-github",
        "colab_type": "text"
      },
      "source": [
        "<a href=\"https://colab.research.google.com/github/Yeswanth2910/python/blob/main/module_02.ipynb\" target=\"_parent\"><img src=\"https://colab.research.google.com/assets/colab-badge.svg\" alt=\"Open In Colab\"/></a>"
      ]
    },
    {
      "cell_type": "code",
      "execution_count": null,
      "metadata": {
        "id": "Iyq4n76YOQz0",
        "colab": {
          "base_uri": "https://localhost:8080/"
        },
        "outputId": "1223b52d-a3f3-4622-ffcf-43e1d8a2fa81"
      },
      "outputs": [
        {
          "output_type": "stream",
          "name": "stdout",
          "text": [
            "5\n",
            "6\n",
            "1\n"
          ]
        }
      ],
      "source": [
        "def nCr(yaswanth,kasa):\n",
        "   return(fact(yaswanth)/(fact(kasa)\n",
        "                 *fact(yaswanth-kasa)))\n",
        "yaswanth=int(input(\"\"))\n",
        "kasa=int(input(\"\"))\n",
        "def fact(yaswanth):\n",
        "    res=1\n",
        "    for i in range(2,yaswanth+1):\n",
        "      res =res*1\n",
        "    return res\n",
        "print(int(nCr(yaswanth,kasa)))"
      ]
    },
    {
      "cell_type": "code",
      "source": [
        "def list_diff(list1, list2): \n",
        "\treturn (list(set(list1) - set(list2))) \n",
        "\n",
        "\n",
        "list1 = [11, 16,41,26] \n",
        "list2 = [26, 41, 16] \n",
        "\n",
        "\n",
        "print(list_diff(list1, list2))"
      ],
      "metadata": {
        "colab": {
          "base_uri": "https://localhost:8080/"
        },
        "id": "zsxEigCQS6oB",
        "outputId": "1992a7ba-abb8-4a17-9b94-d4fa06421311"
      },
      "execution_count": null,
      "outputs": [
        {
          "output_type": "stream",
          "name": "stdout",
          "text": [
            "[11]\n"
          ]
        }
      ]
    },
    {
      "cell_type": "code",
      "source": [
        "def Diff(li1, li2):\n",
        "    li_dif = [i for i in li1 + li2 if i not in li1 or i not in li2]\n",
        "    return li_dif\n",
        "li1 = [58, 15, 25]\n",
        "li2 = [25, 40, 69]\n",
        "li3 = Diff(li1, li2)\n",
        "print(li3)"
      ],
      "metadata": {
        "colab": {
          "base_uri": "https://localhost:8080/"
        },
        "id": "V2JIZmAsT8gI",
        "outputId": "15f624b2-bb75-4b4a-ffb8-5265bc6bae1b"
      },
      "execution_count": null,
      "outputs": [
        {
          "output_type": "stream",
          "name": "stdout",
          "text": [
            "[58, 15, 40, 69]\n"
          ]
        }
      ]
    },
    {
      "cell_type": "code",
      "source": [
        "def find_len(yaswanth):\n",
        "     length = len(yaswanth)\n",
        "     yaswanth.sort()\n",
        "     print(\"Largest element is:\", yaswanth[length-1])\n",
        "     print(\"Smallest element is:\", yaswanth[0])\n",
        "     print(\"Second Largest element is:\", yaswanth[length-2])\n",
        "     print(\"Second Smallest element is:\", yaswanth[1])\n",
        "yaswanth=[1,25,63]\n",
        "Largest = find_len(yaswanth)"
      ],
      "metadata": {
        "colab": {
          "base_uri": "https://localhost:8080/"
        },
        "id": "G5J-M8vmUDlJ",
        "outputId": "bcb3ec4b-261d-47fc-d16d-1b371130d9a2"
      },
      "execution_count": null,
      "outputs": [
        {
          "output_type": "stream",
          "name": "stdout",
          "text": [
            "Largest element is: 63\n",
            "Smallest element is: 1\n",
            "Second Largest element is: 25\n",
            "Second Smallest element is: 25\n"
          ]
        }
      ]
    },
    {
      "cell_type": "code",
      "source": [
        "a = int(input(\"Enter some random lower limit =\"))\n",
        "b= int(input(\"Enter some random lower limit =\"))\n",
        "\n",
        "listOfTuples = [(k, k**2) for k in range(a,b+1)]\n",
        "\n",
        "print('The list of Tuples are : ', listOfTuples)"
      ],
      "metadata": {
        "colab": {
          "base_uri": "https://localhost:8080/"
        },
        "id": "E0CZA-cfUV5K",
        "outputId": "ba02057c-2129-4e45-cb66-cc013e94bedb"
      },
      "execution_count": null,
      "outputs": [
        {
          "output_type": "stream",
          "name": "stdout",
          "text": [
            "Enter some random lower limit =5\n",
            "Enter some random lower limit =9\n",
            "The list of Tuples are :  [(5, 25), (6, 36), (7, 49), (8, 64), (9, 81)]\n"
          ]
        }
      ]
    },
    {
      "cell_type": "code",
      "source": [
        "test_list = [(4, 5), (4, ), (8, 6, 7), (1, ), (3, 4, 6, 7)]\n",
        "print(\"The original list : \" + str(test_list)) \n",
        "K=1\n",
        "res = [ele for ele in test_list if len(ele) != K]\n",
        "print(\"Filtered list : \" + str(res))"
      ],
      "metadata": {
        "colab": {
          "base_uri": "https://localhost:8080/"
        },
        "id": "MlSOEx7ZUjLI",
        "outputId": "01739231-30fe-4bae-9737-e3972974aab7"
      },
      "execution_count": null,
      "outputs": [
        {
          "output_type": "stream",
          "name": "stdout",
          "text": [
            "The original list : [(4, 5), (4,), (8, 6, 7), (1,), (3, 4, 6, 7)]\n",
            "Filtered list : [(4, 5), (8, 6, 7), (3, 4, 6, 7)]\n"
          ]
        }
      ]
    }
  ]
}