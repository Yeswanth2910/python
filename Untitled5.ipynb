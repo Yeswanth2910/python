{
  "nbformat": 4,
  "nbformat_minor": 0,
  "metadata": {
    "colab": {
      "name": "Untitled5.ipynb",
      "provenance": [],
      "authorship_tag": "ABX9TyOff6A+UEwFQbrF+KQ6GWo4",
      "include_colab_link": true
    },
    "kernelspec": {
      "name": "python3",
      "display_name": "Python 3"
    },
    "language_info": {
      "name": "python"
    }
  },
  "cells": [
    {
      "cell_type": "markdown",
      "metadata": {
        "id": "view-in-github",
        "colab_type": "text"
      },
      "source": [
        "<a href=\"https://colab.research.google.com/github/Yeswanth2910/python/blob/main/Untitled5.ipynb\" target=\"_parent\"><img src=\"https://colab.research.google.com/assets/colab-badge.svg\" alt=\"Open In Colab\"/></a>"
      ]
    },
    {
      "cell_type": "code",
      "execution_count": 9,
      "metadata": {
        "colab": {
          "base_uri": "https://localhost:8080/"
        },
        "id": "83LmvJ-JMnHX",
        "outputId": "43b90b13-2e4b-421a-c127-d009c741faae"
      },
      "outputs": [
        {
          "output_type": "stream",
          "name": "stdout",
          "text": [
            "['l', 'e', 'a', 'e', 'a', 'e', 'd', 'b', 'e', 'c', 'a', 'e', 'h', 'e', 'm', 'a', 'f', 'a', 'h', 'e', 'l', 'd', 'a', 'e', 'f', 'h', 'e', 'm', 'a', 'i', 'l', 'h', 'e', 'h', 'a', 'd', 'a', 'd', 'e', 'c', 'e', 'j', 'b', 'e', 'a', 'l', 'a', 'e', 'a', 'd', 'h', 'a', 'i', 'l', 'm', 'a', 'i', 'e', 'd', 'h', 'e', 'm', 'a', 'i', 'i', 'e', 'h', 'e', 'e', 'b', 'f', 'i', 'e', 'd', 'a', 'a', 'l', 'c', 'h', 'l', 'i', 'c', 'i', 'h', 'e', 'h', 'm', 'e', 'h', 'e', 'e', 'h', 'e', 'a', 'k', 'e', 'a', 'h', 'a', 'i', 'i', 'g', 'h', 'e', 'b', 'a', 'c', 'k']\n"
          ]
        }
      ],
      "source": [
        "import re\n",
        "txt = \"Two lovers are parted because the woman's father would not approve of the man until he had a decent job; years later and happily married, the woman invites the ex-boyfriend, now an alcoholic, into her home, where he takes a shot at winning her back.\"\n",
        "x = re.findall(\"[a-m]\", txt)\n",
        "print(x)\n"
      ]
    },
    {
      "cell_type": "code",
      "source": [
        "import re\n",
        "txt = \"Two lovers are parted because the woman's father would not approve of the man until he had a decent job; years later and happily married,2 3 the woman invites the ex-boyfriend, now an alcoholic, into her home, where he takes a shot at winning her back.\"\n",
        "x = re.findall(\"\\d\", txt)\n",
        "print(x)\n"
      ],
      "metadata": {
        "colab": {
          "base_uri": "https://localhost:8080/"
        },
        "id": "7dcRSiTmNHjL",
        "outputId": "c1135371-08a3-4f5d-ecf5-4933debb3b20"
      },
      "execution_count": 8,
      "outputs": [
        {
          "output_type": "stream",
          "name": "stdout",
          "text": [
            "['2', '3']\n"
          ]
        }
      ]
    },
    {
      "cell_type": "code",
      "source": [
        "import re\n",
        "txt = \"yeswanth \"\n",
        "x = re.findall(\"yes....h\", txt)\n",
        "print(x)\n"
      ],
      "metadata": {
        "colab": {
          "base_uri": "https://localhost:8080/"
        },
        "id": "8QjqGmYoOS8a",
        "outputId": "0aaaf135-d2ad-43a7-fbb0-c9fe51db0b09"
      },
      "execution_count": 7,
      "outputs": [
        {
          "output_type": "stream",
          "name": "stdout",
          "text": [
            "['yeswanth']\n"
          ]
        }
      ]
    },
    {
      "cell_type": "code",
      "source": [
        "import re\n",
        "txt = \"mahesh babu \"\n",
        "x = re.findall(\"^mahesh\", txt)\n",
        "if x:\n",
        "  print(\"Yes, the string starts with 'mahesh'\")\n",
        "else:\n",
        "  print(\"No match\")\n"
      ],
      "metadata": {
        "colab": {
          "base_uri": "https://localhost:8080/"
        },
        "id": "NYj8x4jSQimi",
        "outputId": "9d1122cb-548e-4072-d876-5f6add34d399"
      },
      "execution_count": 11,
      "outputs": [
        {
          "output_type": "stream",
          "name": "stdout",
          "text": [
            "Yes, the string starts with 'mahesh'\n"
          ]
        }
      ]
    },
    {
      "cell_type": "code",
      "source": [
        "import re\n",
        "txt = \"hello python\"\n",
        "x = re.findall(\"python$\", txt)\n",
        "if x:\n",
        "  print(\"Yes, the string ends with 'python'\")\n",
        "else:\n",
        "  print(\"No match\")\n"
      ],
      "metadata": {
        "colab": {
          "base_uri": "https://localhost:8080/"
        },
        "id": "AK4hPH9zP-xz",
        "outputId": "342f08db-39d1-4719-9451-ac707963fe05"
      },
      "execution_count": 15,
      "outputs": [
        {
          "output_type": "stream",
          "name": "stdout",
          "text": [
            "Yes, the string ends with 'python'\n"
          ]
        }
      ]
    },
    {
      "cell_type": "code",
      "source": [
        "import re\n",
        "txt = \"yeswanth planet\"\n",
        "x = re.findall(\"yes.*nth\", txt)\n",
        "print(x)\n"
      ],
      "metadata": {
        "colab": {
          "base_uri": "https://localhost:8080/"
        },
        "id": "0uAGDM05UaBU",
        "outputId": "9bbd079f-4800-4c7a-898b-41b84b6896e7"
      },
      "execution_count": 17,
      "outputs": [
        {
          "output_type": "stream",
          "name": "stdout",
          "text": [
            "['yeswanth']\n"
          ]
        }
      ]
    },
    {
      "cell_type": "code",
      "source": [
        ""
      ],
      "metadata": {
        "id": "iNpYHQtOTQ26"
      },
      "execution_count": null,
      "outputs": []
    }
  ]
}