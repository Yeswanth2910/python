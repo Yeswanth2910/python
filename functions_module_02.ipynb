{
  "nbformat": 4,
  "nbformat_minor": 0,
  "metadata": {
    "colab": {
      "name": "functions module 02",
      "provenance": [],
      "authorship_tag": "ABX9TyPbSaRCyitV8twRDybM7tjd",
      "include_colab_link": true
    },
    "kernelspec": {
      "name": "python3",
      "display_name": "Python 3"
    },
    "language_info": {
      "name": "python"
    }
  },
  "cells": [
    {
      "cell_type": "markdown",
      "metadata": {
        "id": "view-in-github",
        "colab_type": "text"
      },
      "source": [
        "<a href=\"https://colab.research.google.com/github/Yeswanth2910/python/blob/main/functions_module_02.ipynb\" target=\"_parent\"><img src=\"https://colab.research.google.com/assets/colab-badge.svg\" alt=\"Open In Colab\"/></a>"
      ]
    },
    {
      "cell_type": "code",
      "execution_count": 7,
      "metadata": {
        "id": "0Lh5pwYx11MF"
      },
      "outputs": [],
      "source": [
        "##Program to find the second smallest number and second largest number in a list."
      ]
    },
    {
      "cell_type": "code",
      "source": [
        "def find_len(list1):\n",
        "\tlength = len(list1)\n",
        "\tyeswanth.sort()\n",
        "\tprint(\"Largest element is:\", yeswanth[length-1])\n",
        "\tprint(\"Smallest element is:\", yeswanth[0])\n",
        "\tprint(\"Second Largest element is:\", yeswanth[length-2])\n",
        "\tprint(\"Second Smallest element is:\", yeswanth[1])\n",
        "yeswanth=[12, 4, 45 ,23, 42,10]\n",
        "Largest = find_len(list1)"
      ],
      "metadata": {
        "colab": {
          "base_uri": "https://localhost:8080/"
        },
        "id": "zmCWzt6s3tv4",
        "outputId": "6aa6a2c3-d80d-4257-db80-6d6127c3d3e3"
      },
      "execution_count": 13,
      "outputs": [
        {
          "output_type": "stream",
          "name": "stdout",
          "text": [
            "Largest element is: 45\n",
            "Smallest element is: 4\n",
            "Second Largest element is: 42\n",
            "Second Smallest element is: 10\n"
          ]
        }
      ]
    },
    {
      "cell_type": "code",
      "source": [
        "##Program to get the maximum and minimum value in a dictionary"
      ],
      "metadata": {
        "id": "0CBy0Fje7oIk"
      },
      "execution_count": 10,
      "outputs": []
    },
    {
      "cell_type": "code",
      "source": [
        "Tv = {'yeswanth':100, 'amruth':1292, 'TMKUC' : 88}\n",
        "Keymax = max(zip(Tv.values(), Tv.keys()))[1]\n",
        "print(Keymax)"
      ],
      "metadata": {
        "colab": {
          "base_uri": "https://localhost:8080/"
        },
        "id": "2v39hXup8M4U",
        "outputId": "6eb41ddb-ed84-46cf-b03b-9c1123a7f06d"
      },
      "execution_count": 14,
      "outputs": [
        {
          "output_type": "stream",
          "name": "stdout",
          "text": [
            "amruth\n"
          ]
        }
      ]
    },
    {
      "cell_type": "code",
      "source": [
        "Given list of tuples, remove all the tuples with length K.\n",
        "Input : test_list = [(4, 5), (4, ), (8, 6, 7), (1, ), (3, 4, 6, 7)], K = 2\n",
        "Output : [(4, ), (8, 6, 7), (1, ), (3, 4, 6, 7)]"
      ],
      "metadata": {
        "id": "QB6cRAJ-BNiM"
      },
      "execution_count": null,
      "outputs": []
    },
    {
      "cell_type": "code",
      "source": [
        ""
      ],
      "metadata": {
        "id": "32Hg0W68-EdO"
      },
      "execution_count": null,
      "outputs": []
    }
  ]
}